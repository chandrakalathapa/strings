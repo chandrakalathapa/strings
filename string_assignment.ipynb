{
 "cells": [
  {
   "cell_type": "code",
   "execution_count": 1,
   "metadata": {},
   "outputs": [
    {
     "name": "stdout",
     "output_type": "stream",
     "text": [
      "hi this is ck\n"
     ]
    }
   ],
   "source": [
    "#Create a string and print it.\n",
    "\n",
    "msg = 'hi this is ck'\n",
    "print(msg)"
   ]
  },
  {
   "cell_type": "code",
   "execution_count": 1,
   "metadata": {},
   "outputs": [
    {
     "name": "stdout",
     "output_type": "stream",
     "text": [
      "8\n"
     ]
    }
   ],
   "source": [
    "#Take a string input and print it's length.\n",
    "\n",
    "str = input('enter the message')\n",
    "a = len(str)\n",
    "print(a)"
   ]
  },
  {
   "cell_type": "code",
   "execution_count": 4,
   "metadata": {},
   "outputs": [
    {
     "name": "stdout",
     "output_type": "stream",
     "text": [
      "great\n"
     ]
    }
   ],
   "source": [
    " #Print the last word of the string Python is great using slices.\n",
    "\n",
    "\n",
    "str = 'Python is great'\n",
    "slice =str[-5:]\n",
    "print(slice)\n"
   ]
  },
  {
   "cell_type": "code",
   "execution_count": 20,
   "metadata": {},
   "outputs": [
    {
     "name": "stdout",
     "output_type": "stream",
     "text": [
      "python\n",
      "is\n",
      "everywhere\n"
     ]
    }
   ],
   "source": [
    " #Print the each word in different line of string python is everywhere.\n",
    "\n",
    "note = '''python\n",
    "is\n",
    "everywhere'''\n",
    "\n",
    "print(note)\n"
   ]
  },
  {
   "cell_type": "code",
   "execution_count": 23,
   "metadata": {},
   "outputs": [
    {
     "name": "stdout",
     "output_type": "stream",
     "text": [
      "!dlrow olleh\n"
     ]
    }
   ],
   "source": [
    "#Print the string Hello World! in reverse.\n",
    "\n",
    "str = 'hello world!'\n",
    "x = str[::-1]\n",
    "print(x)\n",
    "\n"
   ]
  },
  {
   "cell_type": "code",
   "execution_count": 24,
   "metadata": {},
   "outputs": [
    {
     "name": "stdout",
     "output_type": "stream",
     "text": [
      "HOW ARE YOU?\n"
     ]
    }
   ],
   "source": [
    "#Convert the string How are you? in uppercase.\n",
    "\n",
    "str = \"how are you?\"\n",
    "str = str.upper()\n",
    "print(str)\n"
   ]
  },
  {
   "cell_type": "code",
   "execution_count": 27,
   "metadata": {},
   "outputs": [
    {
     "name": "stdout",
     "output_type": "stream",
     "text": [
      "how is it  going?\n"
     ]
    }
   ],
   "source": [
    "#Convert the string How Is It Going? in lowercase.\n",
    "\n",
    "str = \"HOW IS IT  GOING?\"\n",
    "str = str.lower()\n",
    "print(str)"
   ]
  },
  {
   "cell_type": "code",
   "execution_count": 30,
   "metadata": {},
   "outputs": [
    {
     "name": "stdout",
     "output_type": "stream",
     "text": [
      "Python is easy to learn\n"
     ]
    }
   ],
   "source": [
    "#Join the following list by spaces( ) and print the result.\n",
    "\n",
    "words = ['Python', 'is', 'easy', 'to', 'learn']\n",
    "word= ' '.join(words)\n",
    "print(word)\n",
    "\n"
   ]
  },
  {
   "cell_type": "code",
   "execution_count": 59,
   "metadata": {},
   "outputs": [
    {
     "name": "stdout",
     "output_type": "stream",
     "text": [
      "['Joe,', 'David,', 'Mark,', 'Tom,', 'Chris,', 'Robert']\n"
     ]
    }
   ],
   "source": [
    "#Extract names from the following string and store them in a list.\n",
    "\n",
    "names = 'Joe, David, Mark, Tom, Chris, Robert'\n",
    "name = names.split()\n",
    "print(name)"
   ]
  },
  {
   "cell_type": "code",
   "execution_count": 55,
   "metadata": {},
   "outputs": [
    {
     "name": "stdout",
     "output_type": "stream",
     "text": [
      "one sheep\n",
      "two sheep\n",
      "three sheep\n"
     ]
    }
   ],
   "source": [
    "# Print a multiline string using a single print\n",
    "\n",
    "\n",
    "xyz = 'one sheep\\n'\\\n",
    "    'two sheep\\n'\\\n",
    "    'three sheep'\n",
    "print(xyz)"
   ]
  },
  {
   "cell_type": "code",
   "execution_count": 61,
   "metadata": {},
   "outputs": [
    {
     "data": {
      "text/plain": [
       "4"
      ]
     },
     "execution_count": 61,
     "metadata": {},
     "output_type": "execute_result"
    }
   ],
   "source": [
    "#Ask user to input a string and print how many times e appeared in the string\n",
    "\n",
    "\n",
    "str = input('enter a  sentence')\n",
    "str.count('e')"
   ]
  },
  {
   "cell_type": "code",
   "execution_count": 43,
   "metadata": {},
   "outputs": [
    {
     "name": "stdout",
     "output_type": "stream",
     "text": [
      "the variable is 15\n"
     ]
    }
   ],
   "source": [
    "#Print a variable with some text using a single print function, output should look like following.\n",
    "\n",
    "x = \"15\"\n",
    "print(f'the variable is {x}')\n"
   ]
  },
  {
   "cell_type": "code",
   "execution_count": 52,
   "metadata": {},
   "outputs": [
    {
     "name": "stdout",
     "output_type": "stream",
     "text": [
      "python is great\n"
     ]
    }
   ],
   "source": [
    "#concatenate the following strings and print the result\n",
    "\n",
    "\n",
    "s1 ='python'\n",
    "s2 = 'is'\n",
    "s3 = 'great'\n",
    "\n",
    "result =s1+ ' '+s2+ ' ' +s3\n",
    "print(result)\n"
   ]
  },
  {
   "cell_type": "code",
   "execution_count": 54,
   "metadata": {},
   "outputs": [
    {
     "name": "stdout",
     "output_type": "stream",
     "text": [
      "####################\n"
     ]
    }
   ],
   "source": [
    "#Print # 20 times without using a loop\n",
    "\n",
    "\n",
    "hashtag = '#'\n",
    "print(hashtag * 20)\n"
   ]
  },
  {
   "cell_type": "code",
   "execution_count": 62,
   "metadata": {},
   "outputs": [
    {
     "name": "stdout",
     "output_type": "stream",
     "text": [
      "1.\n",
      "2.\n",
      "3.\n",
      "4.\n",
      "5.\n",
      "6.\n",
      "7.\n",
      "8.\n",
      "9.\n"
     ]
    }
   ],
   "source": [
    "#Print numbers from 1 to 9, each on a seperate line, followed by a dot\n",
    "\n",
    "for i in range(1,10):\n",
    "    print(f'{i}.')\n"
   ]
  },
  {
   "cell_type": "code",
   "execution_count": 4,
   "metadata": {},
   "outputs": [
    {
     "name": "stdout",
     "output_type": "stream",
     "text": [
      "yes, it is a number \n"
     ]
    }
   ],
   "source": [
    "#Check if the user input is a number.\n",
    "\n",
    "number = input(\"enter a number:\")\n",
    "if number.isnumeric():\n",
    "    print(\"yes, it is a number \")\n",
    "else:\n",
    "    print(\"no, it's not a  number\")    \n"
   ]
  },
  {
   "cell_type": "code",
   "execution_count": 17,
   "metadata": {},
   "outputs": [
    {
     "name": "stdout",
     "output_type": "stream",
     "text": [
      "39    this is not a good string           \n",
      "25 this is not a good string\n"
     ]
    }
   ],
   "source": [
    "#Remove the extra spaces in beginning and in the end of the following string-\n",
    "\n",
    "text = '   this is not a good string           '\n",
    "print(len(text), text)\n",
    "txt =text.strip()\n",
    "print(len(txt),txt)"
   ]
  },
  {
   "cell_type": "code",
   "execution_count": 33,
   "metadata": {},
   "outputs": [
    {
     "name": "stdout",
     "output_type": "stream",
     "text": [
      "4.478260869565218\n"
     ]
    }
   ],
   "source": [
    "#calculate the average word length of the following paragraph.\n",
    "\n",
    "sen = input(\"enter the sentence\")\n",
    "words = sen.split()\n",
    "average = sum(len(word)for word in words) / len(words)\n",
    "print(average)"
   ]
  },
  {
   "cell_type": "code",
   "execution_count": 54,
   "metadata": {},
   "outputs": [
    {
     "name": "stdout",
     "output_type": "stream",
     "text": [
      "python\n"
     ]
    }
   ],
   "source": [
    "#Remove all the special characters and numbers from the following string\n",
    "\n",
    "\n",
    "text = '%p34@y!*-*!t68h#&on404'\n",
    "new_text = \"\".join(i for i in text if  i.isalpha())\n",
    "print(new_text)"
   ]
  },
  {
   "cell_type": "code",
   "execution_count": 112,
   "metadata": {},
   "outputs": [
    {
     "name": "stdout",
     "output_type": "stream",
     "text": [
      "found\n"
     ]
    }
   ],
   "source": [
    "#ask user to enter a string and check if the string contains fyi\n",
    "\n",
    "text = input('enter a string')\n",
    "if 'fyi' in text:\n",
    "    print('found')\n",
    "else:\n",
    "    print('not found')"
   ]
  },
  {
   "cell_type": "code",
   "execution_count": 111,
   "metadata": {},
   "outputs": [
    {
     "name": "stdout",
     "output_type": "stream",
     "text": [
      "not found\n"
     ]
    }
   ],
   "source": [
    "#Ask user to input string, print found if any of the character is upper case.\n",
    "\n",
    "strings = input('enter a string')\n",
    "for i in strings:\n",
    "\n",
    "  if strings.isupper():\n",
    "    print('found')\n",
    "    break\n",
    "else:\n",
    "    print('not found')"
   ]
  },
  {
   "cell_type": "code",
   "execution_count": 97,
   "metadata": {},
   "outputs": [
    {
     "data": {
      "text/plain": [
       "False"
      ]
     },
     "execution_count": 97,
     "metadata": {},
     "output_type": "execute_result"
    }
   ],
   "source": [
    "#Ask user to input a string and check if the string ends with '?'\n",
    "\n",
    "str = input('enter a string')\n",
    "str.endswith('?')"
   ]
  },
  {
   "cell_type": "code",
   "execution_count": 94,
   "metadata": {},
   "outputs": [
    {
     "name": "stdout",
     "output_type": "stream",
     "text": [
      "hi\n",
      "how\n",
      "are\n",
      "you\n"
     ]
    }
   ],
   "source": [
    "#Ask user to input a sentence and print each word on a different line.\n",
    "\n",
    "string = input('enter the message')\n",
    "for i in string.split():\n",
    "    print(i)"
   ]
  },
  {
   "cell_type": "code",
   "execution_count": 99,
   "metadata": {},
   "outputs": [
    {
     "name": "stdout",
     "output_type": "stream",
     "text": [
      "thisaye\n",
      "isaye\n",
      "someaye\n",
      "textaye\n"
     ]
    }
   ],
   "source": [
    "#In the following string, add aye in the end of every word and print the results.\n",
    "\n",
    "\n",
    "text = 'this is some text'\n",
    "for i in text.split():\n",
    "    print(f'{i}aye')"
   ]
  },
  {
   "cell_type": "code",
   "execution_count": 107,
   "metadata": {},
   "outputs": [
    {
     "name": "stdout",
     "output_type": "stream",
     "text": [
      " to move to new line '/n'  is used\n"
     ]
    }
   ],
   "source": [
    "#Print this string to move to newline '\\n' is used. (results should look exactly like the provided string)\n",
    "\n",
    "\n",
    "print(\" to move to new line '/n'  is used\")"
   ]
  }
 ],
 "metadata": {
  "interpreter": {
   "hash": "19d1d53a962d236aa061289c2ac16dc8e6d9648c89fe79f459ae9a3493bc67b4"
  },
  "kernelspec": {
   "display_name": "Python 3.9.12 ('base')",
   "language": "python",
   "name": "python3"
  },
  "language_info": {
   "codemirror_mode": {
    "name": "ipython",
    "version": 3
   },
   "file_extension": ".py",
   "mimetype": "text/x-python",
   "name": "python",
   "nbconvert_exporter": "python",
   "pygments_lexer": "ipython3",
   "version": "3.9.12"
  },
  "orig_nbformat": 4,
  "vscode": {
   "interpreter": {
    "hash": "19d1d53a962d236aa061289c2ac16dc8e6d9648c89fe79f459ae9a3493bc67b4"
   }
  }
 },
 "nbformat": 4,
 "nbformat_minor": 2
}
